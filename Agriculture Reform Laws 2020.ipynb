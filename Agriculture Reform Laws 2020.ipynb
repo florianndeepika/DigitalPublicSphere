{
 "cells": [
  {
   "cell_type": "code",
   "execution_count": null,
   "id": "d359a483",
   "metadata": {},
   "outputs": [],
   "source": [
    "#Required packages:\n",
    "#pip install snscrape\n",
    "#!pip install textblob\n",
    "#pip install WordCloud\n",
    "#!pip install whatthelang\n",
    "#!pip install -U setuptools\n",
    "#!pip install auto-py-to-exe"
   ]
  },
  {
   "cell_type": "markdown",
   "id": "a41d3b4e",
   "metadata": {},
   "source": [
    "# 1. Import required packages"
   ]
  },
  {
   "cell_type": "code",
   "execution_count": 1,
   "id": "7896052e",
   "metadata": {},
   "outputs": [],
   "source": [
    "#Get query:\n",
    "import snscrape.modules.twitter as sntwitter\n",
    "\n",
    "#Numpy and Pandas\n",
    "import numpy as np\n",
    "import pandas as pd\n",
    "from collections import Counter\n",
    "\n",
    "# Datetime\n",
    "from datetime import date\n",
    "from datetime import datetime\n",
    "\n",
    "#Sentiment Anaysis:\n",
    "import snscrape.modules.twitter as sntwitter\n",
    "\n",
    "#Getting files\n",
    "import glob\n",
    "import os\n",
    "\n",
    "#WordCloud\n",
    "from PIL import Image\n",
    "from wordcloud import WordCloud, STOPWORDS, ImageColorGenerator\n",
    "#from wordcloud import WordCloud, STOPWORDS\n",
    "\n",
    "#Plots\n",
    "import matplotlib.pyplot as plt\n",
    "import seaborn as sns\n",
    "%matplotlib inline\n",
    "\n",
    "#NLTK packages\n",
    "import nltk\n",
    "from nltk.sentiment.vader import SentimentIntensityAnalyzer\n",
    "from nltk.tokenize import word_tokenize\n",
    "from nltk.corpus import stopwords\n",
    "from nltk.stem.porter import *\n",
    "\n",
    "import string\n",
    "from textblob import Word, TextBlob\n",
    "from textstat.textstat import *\n",
    "from nltk.sentiment.vader import SentimentIntensityAnalyzer as VS\n",
    "\n",
    "#Warning error\n",
    "import warnings\n",
    "warnings.simplefilter(action='ignore', category=FutureWarning)"
   ]
  },
  {
   "cell_type": "markdown",
   "id": "3dea7105",
   "metadata": {},
   "source": [
    "# 2. Authenticate to Twitter and getting tweets"
   ]
  },
  {
   "cell_type": "code",
   "execution_count": 2,
   "id": "99de9727",
   "metadata": {},
   "outputs": [],
   "source": [
    "#Query to extract twitter data\n",
    "\n",
    "#query = \"(#farmersprotest) lang:en until:2021-12-31 since:2019-01-01\"\n",
    "#tweets = []\n",
    "#limit = 100\n",
    "\n",
    "\n",
    "#for tweet in sntwitter.TwitterSearchScraper(query).get_items():\n",
    "    \n",
    "    # print(vars(tweet))\n",
    "    # break\n",
    "    #if len(tweets) == limit:\n",
    "     #   break\n",
    "    #else:\n",
    "        #tweets.append([tweet.date, tweet.user.username, tweet.content])\n",
    "        \n",
    "#df = pd.DataFrame(tweets, columns=['Date', 'User', 'Tweet'])\n",
    "#print(df)\n"
   ]
  },
  {
   "cell_type": "markdown",
   "id": "95b188b9",
   "metadata": {},
   "source": [
    "Notes: Twitter data was extracted on 10 timelines inorder to have a meticulous study of the research paper"
   ]
  },
  {
   "cell_type": "code",
   "execution_count": 3,
   "id": "8315083b",
   "metadata": {},
   "outputs": [],
   "source": [
    "#Merging all the files\n",
    "tweets_Sep20 = pd.read_csv(\"tweets_Sep20.csv\")\n",
    "tweets_OCt_Nov_20 = pd.read_csv(\"tweets_OCt_Nov_20.csv\")\n",
    "tweets_Dec_20_Jan_21 = pd.read_csv(\"tweets_Dec_20_Jan_21.csv\")\n",
    "tweets_Jan_21_Mar_21 = pd.read_csv(\"tweets_Jan_21_Mar_21.csv\")\n",
    "tweets_Apr_21_May_21 = pd.read_csv(\"tweets_Apr_21_May_21.csv\")\n",
    "tweets_Jun_21_Jul_21 = pd.read_csv(\"tweets_Jun_21_Jul_21.csv\")\n",
    "tweetsAug_21_Sep_21 = pd.read_csv('tweetsAug_21_Sep_21.csv',encoding='latin1') #file name change here\n",
    "tweets_Oct21 = pd.read_csv(\"tweets_Oct21.csv\")\n",
    "tweets_Nov21 = pd.read_csv(\"tweets_Nov21.csv\")\n",
    "tweets_Dec21 = pd.read_csv(\"tweets_Dec21.csv\")\n",
    "\n",
    "frames = [tweets_Sep20, tweets_OCt_Nov_20,tweets_Dec_20_Jan_21,tweets_Jan_21_Mar_21,tweets_Apr_21_May_21,tweets_Jun_21_Jul_21,tweetsAug_21_Sep_21,tweets_Oct21,tweets_Nov21,tweets_Dec21]\n",
    "tweet_data =pd.concat(frames)"
   ]
  },
  {
   "cell_type": "code",
   "execution_count": 4,
   "id": "72579155",
   "metadata": {},
   "outputs": [
    {
     "name": "stdout",
     "output_type": "stream",
     "text": [
      "(572005, 3)\n"
     ]
    }
   ],
   "source": [
    "print(tweet_data.shape)"
   ]
  },
  {
   "cell_type": "markdown",
   "id": "5b02c7c4",
   "metadata": {},
   "source": [
    "Notes: The extracted twitter data has 572005 tweets in total with respect to the hashtag - #farmersprotest"
   ]
  },
  {
   "cell_type": "code",
   "execution_count": 5,
   "id": "b6d2be93",
   "metadata": {
    "scrolled": true
   },
   "outputs": [
    {
     "data": {
      "text/html": [
       "<div>\n",
       "<style scoped>\n",
       "    .dataframe tbody tr th:only-of-type {\n",
       "        vertical-align: middle;\n",
       "    }\n",
       "\n",
       "    .dataframe tbody tr th {\n",
       "        vertical-align: top;\n",
       "    }\n",
       "\n",
       "    .dataframe thead th {\n",
       "        text-align: right;\n",
       "    }\n",
       "</style>\n",
       "<table border=\"1\" class=\"dataframe\">\n",
       "  <thead>\n",
       "    <tr style=\"text-align: right;\">\n",
       "      <th></th>\n",
       "      <th>Unnamed: 0</th>\n",
       "      <th>Date</th>\n",
       "      <th>Tweet</th>\n",
       "    </tr>\n",
       "  </thead>\n",
       "  <tbody>\n",
       "    <tr>\n",
       "      <th>0</th>\n",
       "      <td>0</td>\n",
       "      <td>2020-09-29 23:52:29+00:00</td>\n",
       "      <td>@amitvarma Amit, You have spent many episodes ...</td>\n",
       "    </tr>\n",
       "    <tr>\n",
       "      <th>1</th>\n",
       "      <td>1</td>\n",
       "      <td>2020-09-29 21:13:30+00:00</td>\n",
       "      <td>people talking about #SuhanaKhan reaction to t...</td>\n",
       "    </tr>\n",
       "  </tbody>\n",
       "</table>\n",
       "</div>"
      ],
      "text/plain": [
       "   Unnamed: 0                       Date  \\\n",
       "0           0  2020-09-29 23:52:29+00:00   \n",
       "1           1  2020-09-29 21:13:30+00:00   \n",
       "\n",
       "                                               Tweet  \n",
       "0  @amitvarma Amit, You have spent many episodes ...  \n",
       "1  people talking about #SuhanaKhan reaction to t...  "
      ]
     },
     "execution_count": 5,
     "metadata": {},
     "output_type": "execute_result"
    }
   ],
   "source": [
    "tweet_data.head(2)"
   ]
  },
  {
   "cell_type": "code",
   "execution_count": 6,
   "id": "9ec9a2ac",
   "metadata": {},
   "outputs": [],
   "source": [
    "#Removing unnamed column:\n",
    "tweet_data = tweet_data.loc[:, ~tweet_data.columns.str.contains('^Unnamed')]"
   ]
  },
  {
   "cell_type": "code",
   "execution_count": 7,
   "id": "71c041f5",
   "metadata": {
    "scrolled": true
   },
   "outputs": [
    {
     "name": "stdout",
     "output_type": "stream",
     "text": [
      "<class 'pandas.core.frame.DataFrame'>\n",
      "Int64Index: 572005 entries, 0 to 10534\n",
      "Data columns (total 2 columns):\n",
      " #   Column  Non-Null Count   Dtype \n",
      "---  ------  --------------   ----- \n",
      " 0   Date    572005 non-null  object\n",
      " 1   Tweet   572005 non-null  object\n",
      "dtypes: object(2)\n",
      "memory usage: 13.1+ MB\n"
     ]
    }
   ],
   "source": [
    "#Checking the data type of the variable\n",
    "tweet_data.info()"
   ]
  },
  {
   "cell_type": "code",
   "execution_count": 8,
   "id": "b07aa0d3",
   "metadata": {},
   "outputs": [],
   "source": [
    "#Changing the Date variable to datetime\n",
    "tweet_data['New_Date'] = pd.to_datetime(tweet_data['Date']).dt.date"
   ]
  },
  {
   "cell_type": "code",
   "execution_count": 9,
   "id": "a2dab185",
   "metadata": {},
   "outputs": [],
   "source": [
    "#Changing the data type for date from object to date type\n",
    "tweet_data['Date'] = pd.to_datetime(tweet_data['Date'])\n",
    "tweet_data['New_Date'] = pd.to_datetime(tweet_data['New_Date'])"
   ]
  },
  {
   "cell_type": "code",
   "execution_count": 10,
   "id": "4fe6e5ae",
   "metadata": {},
   "outputs": [
    {
     "data": {
      "text/plain": [
       "0        @amitvarma Amit, You have spent many episodes ...\n",
       "1        people talking about #SuhanaKhan reaction to t...\n",
       "2        CNN: TRUMP is bankrupt, owes $421,000,000 to I...\n",
       "3        Because that's what sets a new disappointment ...\n",
       "4        3 ball(bill)... 3 strikes!!!... Farmers out \\n...\n",
       "                               ...                        \n",
       "10530    Rihanna done more for my people than the Queen...\n",
       "10531    #Pricehike \\n#unemployment \\n#migrantcrisis\\n#...\n",
       "10532    What emergency, in the midst of a #pandemic, n...\n",
       "10533    @AmandaCerny @Kisanektamorcha Thanks Amanda 🙏🏼...\n",
       "10534    People, stop spreading rumours no one is leavi...\n",
       "Name: Tweet, Length: 572005, dtype: object"
      ]
     },
     "execution_count": 10,
     "metadata": {},
     "output_type": "execute_result"
    }
   ],
   "source": [
    "#Changing the data type for Tweet from object to str \n",
    "tweet_data['Tweet'].astype(str)"
   ]
  },
  {
   "cell_type": "markdown",
   "id": "66efc33b",
   "metadata": {},
   "source": [
    "# 3. Data Cleaning"
   ]
  },
  {
   "cell_type": "code",
   "execution_count": 11,
   "id": "512b8ed2",
   "metadata": {},
   "outputs": [
    {
     "data": {
      "text/html": [
       "<div>\n",
       "<style scoped>\n",
       "    .dataframe tbody tr th:only-of-type {\n",
       "        vertical-align: middle;\n",
       "    }\n",
       "\n",
       "    .dataframe tbody tr th {\n",
       "        vertical-align: top;\n",
       "    }\n",
       "\n",
       "    .dataframe thead th {\n",
       "        text-align: right;\n",
       "    }\n",
       "</style>\n",
       "<table border=\"1\" class=\"dataframe\">\n",
       "  <thead>\n",
       "    <tr style=\"text-align: right;\">\n",
       "      <th></th>\n",
       "      <th>Date</th>\n",
       "      <th>Tweet</th>\n",
       "      <th>New_Date</th>\n",
       "      <th>Clean_Tweet</th>\n",
       "    </tr>\n",
       "  </thead>\n",
       "  <tbody>\n",
       "    <tr>\n",
       "      <th>0</th>\n",
       "      <td>2020-09-29 23:52:29+00:00</td>\n",
       "      <td>@amitvarma Amit, You have spent many episodes ...</td>\n",
       "      <td>2020-09-29</td>\n",
       "      <td>@amitvarma Amit, You have spent many episodes ...</td>\n",
       "    </tr>\n",
       "  </tbody>\n",
       "</table>\n",
       "</div>"
      ],
      "text/plain": [
       "                       Date  \\\n",
       "0 2020-09-29 23:52:29+00:00   \n",
       "\n",
       "                                               Tweet   New_Date  \\\n",
       "0  @amitvarma Amit, You have spent many episodes ... 2020-09-29   \n",
       "\n",
       "                                         Clean_Tweet  \n",
       "0  @amitvarma Amit, You have spent many episodes ...  "
      ]
     },
     "execution_count": 11,
     "metadata": {},
     "output_type": "execute_result"
    }
   ],
   "source": [
    "#Remove url and links\n",
    "tweet_data[\"Clean_Tweet\"] = tweet_data[\"Tweet\"].apply(lambda s: ' '.join(re.sub(\"(w+://S+)\", \" \", s).split()))\n",
    "tweet_data.head(1)"
   ]
  },
  {
   "cell_type": "code",
   "execution_count": 12,
   "id": "b0dac20f",
   "metadata": {},
   "outputs": [
    {
     "data": {
      "text/html": [
       "<div>\n",
       "<style scoped>\n",
       "    .dataframe tbody tr th:only-of-type {\n",
       "        vertical-align: middle;\n",
       "    }\n",
       "\n",
       "    .dataframe tbody tr th {\n",
       "        vertical-align: top;\n",
       "    }\n",
       "\n",
       "    .dataframe thead th {\n",
       "        text-align: right;\n",
       "    }\n",
       "</style>\n",
       "<table border=\"1\" class=\"dataframe\">\n",
       "  <thead>\n",
       "    <tr style=\"text-align: right;\">\n",
       "      <th></th>\n",
       "      <th>Date</th>\n",
       "      <th>Tweet</th>\n",
       "      <th>New_Date</th>\n",
       "      <th>Clean_Tweet</th>\n",
       "    </tr>\n",
       "  </thead>\n",
       "  <tbody>\n",
       "    <tr>\n",
       "      <th>0</th>\n",
       "      <td>2020-09-29 23:52:29+00:00</td>\n",
       "      <td>@amitvarma Amit, You have spent many episodes ...</td>\n",
       "      <td>2020-09-29</td>\n",
       "      <td>amitvarma Amit You have spent many episodes ta...</td>\n",
       "    </tr>\n",
       "  </tbody>\n",
       "</table>\n",
       "</div>"
      ],
      "text/plain": [
       "                       Date  \\\n",
       "0 2020-09-29 23:52:29+00:00   \n",
       "\n",
       "                                               Tweet   New_Date  \\\n",
       "0  @amitvarma Amit, You have spent many episodes ... 2020-09-29   \n",
       "\n",
       "                                         Clean_Tweet  \n",
       "0  amitvarma Amit You have spent many episodes ta...  "
      ]
     },
     "execution_count": 12,
     "metadata": {},
     "output_type": "execute_result"
    }
   ],
   "source": [
    "# Remove punctuations\n",
    "tweet_data[\"Clean_Tweet\"]= tweet_data[\"Clean_Tweet\"].apply(lambda s: ' '.join(re.sub(\"[.,!?:;-='...@#_*]\", \" \", s).split()))\n",
    "tweet_data.head(1)"
   ]
  },
  {
   "cell_type": "code",
   "execution_count": 13,
   "id": "83ddd8b3",
   "metadata": {},
   "outputs": [
    {
     "data": {
      "text/html": [
       "<div>\n",
       "<style scoped>\n",
       "    .dataframe tbody tr th:only-of-type {\n",
       "        vertical-align: middle;\n",
       "    }\n",
       "\n",
       "    .dataframe tbody tr th {\n",
       "        vertical-align: top;\n",
       "    }\n",
       "\n",
       "    .dataframe thead th {\n",
       "        text-align: right;\n",
       "    }\n",
       "</style>\n",
       "<table border=\"1\" class=\"dataframe\">\n",
       "  <thead>\n",
       "    <tr style=\"text-align: right;\">\n",
       "      <th></th>\n",
       "      <th>Date</th>\n",
       "      <th>Tweet</th>\n",
       "      <th>New_Date</th>\n",
       "      <th>Clean_Tweet</th>\n",
       "    </tr>\n",
       "  </thead>\n",
       "  <tbody>\n",
       "    <tr>\n",
       "      <th>0</th>\n",
       "      <td>2020-09-29 23:52:29+00:00</td>\n",
       "      <td>@amitvarma Amit, You have spent many episodes ...</td>\n",
       "      <td>2020-09-29</td>\n",
       "      <td>amitvarma Amit You have spent many episoes tal...</td>\n",
       "    </tr>\n",
       "  </tbody>\n",
       "</table>\n",
       "</div>"
      ],
      "text/plain": [
       "                       Date  \\\n",
       "0 2020-09-29 23:52:29+00:00   \n",
       "\n",
       "                                               Tweet   New_Date  \\\n",
       "0  @amitvarma Amit, You have spent many episodes ... 2020-09-29   \n",
       "\n",
       "                                         Clean_Tweet  \n",
       "0  amitvarma Amit You have spent many episoes tal...  "
      ]
     },
     "execution_count": 13,
     "metadata": {},
     "output_type": "execute_result"
    }
   ],
   "source": [
    "# Remove numbers\n",
    "tweet_data[\"Clean_Tweet\"].replace('d+', '', regex=True, inplace=True)\n",
    "tweet_data.head(1)"
   ]
  },
  {
   "cell_type": "code",
   "execution_count": 14,
   "id": "46e862a8",
   "metadata": {},
   "outputs": [
    {
     "data": {
      "text/html": [
       "<div>\n",
       "<style scoped>\n",
       "    .dataframe tbody tr th:only-of-type {\n",
       "        vertical-align: middle;\n",
       "    }\n",
       "\n",
       "    .dataframe tbody tr th {\n",
       "        vertical-align: top;\n",
       "    }\n",
       "\n",
       "    .dataframe thead th {\n",
       "        text-align: right;\n",
       "    }\n",
       "</style>\n",
       "<table border=\"1\" class=\"dataframe\">\n",
       "  <thead>\n",
       "    <tr style=\"text-align: right;\">\n",
       "      <th></th>\n",
       "      <th>Date</th>\n",
       "      <th>Tweet</th>\n",
       "      <th>New_Date</th>\n",
       "      <th>Clean_Tweet</th>\n",
       "    </tr>\n",
       "  </thead>\n",
       "  <tbody>\n",
       "    <tr>\n",
       "      <th>0</th>\n",
       "      <td>2020-09-29 23:52:29+00:00</td>\n",
       "      <td>@amitvarma Amit, You have spent many episodes ...</td>\n",
       "      <td>2020-09-29</td>\n",
       "      <td>amitvarma Amit You have spent many episoes tal...</td>\n",
       "    </tr>\n",
       "  </tbody>\n",
       "</table>\n",
       "</div>"
      ],
      "text/plain": [
       "                       Date  \\\n",
       "0 2020-09-29 23:52:29+00:00   \n",
       "\n",
       "                                               Tweet   New_Date  \\\n",
       "0  @amitvarma Amit, You have spent many episodes ... 2020-09-29   \n",
       "\n",
       "                                         Clean_Tweet  \n",
       "0  amitvarma Amit You have spent many episoes tal...  "
      ]
     },
     "execution_count": 14,
     "metadata": {},
     "output_type": "execute_result"
    }
   ],
   "source": [
    "# Remove emojis\n",
    "def deEmojify(inputString):\n",
    "    return inputString.encode('ascii', 'ignore').decode('ascii')\n",
    "tweet_data[\"Clean_Tweet\"] = tweet_data[\"Clean_Tweet\"].apply(lambda s: deEmojify(s))\n",
    "tweet_data.head(1)"
   ]
  },
  {
   "cell_type": "code",
   "execution_count": 15,
   "id": "cf6c0596",
   "metadata": {},
   "outputs": [
    {
     "data": {
      "text/html": [
       "<div>\n",
       "<style scoped>\n",
       "    .dataframe tbody tr th:only-of-type {\n",
       "        vertical-align: middle;\n",
       "    }\n",
       "\n",
       "    .dataframe tbody tr th {\n",
       "        vertical-align: top;\n",
       "    }\n",
       "\n",
       "    .dataframe thead th {\n",
       "        text-align: right;\n",
       "    }\n",
       "</style>\n",
       "<table border=\"1\" class=\"dataframe\">\n",
       "  <thead>\n",
       "    <tr style=\"text-align: right;\">\n",
       "      <th></th>\n",
       "      <th>Date</th>\n",
       "      <th>Tweet</th>\n",
       "      <th>New_Date</th>\n",
       "      <th>Clean_Tweet</th>\n",
       "    </tr>\n",
       "  </thead>\n",
       "  <tbody>\n",
       "    <tr>\n",
       "      <th>0</th>\n",
       "      <td>2020-09-29 23:52:29+00:00</td>\n",
       "      <td>@amitvarma Amit, You have spent many episodes ...</td>\n",
       "      <td>2020-09-29</td>\n",
       "      <td>amitvarma amit spent many episoes talking e-re...</td>\n",
       "    </tr>\n",
       "  </tbody>\n",
       "</table>\n",
       "</div>"
      ],
      "text/plain": [
       "                       Date  \\\n",
       "0 2020-09-29 23:52:29+00:00   \n",
       "\n",
       "                                               Tweet   New_Date  \\\n",
       "0  @amitvarma Amit, You have spent many episodes ... 2020-09-29   \n",
       "\n",
       "                                         Clean_Tweet  \n",
       "0  amitvarma amit spent many episoes talking e-re...  "
      ]
     },
     "execution_count": 15,
     "metadata": {},
     "output_type": "execute_result"
    }
   ],
   "source": [
    "# Remove stop words\n",
    "stop = set(stopwords.words('english'))\n",
    "\n",
    "def rem_en(input_txt):\n",
    "    words = input_txt.lower().split()\n",
    "    noise_free_words = [word for word in words if word not in stop] \n",
    "    noise_free_text = \" \".join(noise_free_words) \n",
    "    return noise_free_text\n",
    "\n",
    "tweet_data[\"Clean_Tweet\"] = tweet_data[\"Clean_Tweet\"].apply(lambda s: rem_en(s))\n",
    "tweet_data.head(1)"
   ]
  },
  {
   "cell_type": "markdown",
   "id": "3658423e",
   "metadata": {},
   "source": [
    "Note: The tweets are cleaned using pre-processing steps used in NLP. Now clean data is avaiable for further analysis of data"
   ]
  },
  {
   "cell_type": "markdown",
   "id": "fd4f6645",
   "metadata": {},
   "source": [
    "# 4. Calculate Sentiment"
   ]
  },
  {
   "cell_type": "code",
   "execution_count": 16,
   "id": "70ce2a0f",
   "metadata": {},
   "outputs": [
    {
     "data": {
      "text/html": [
       "<div>\n",
       "<style scoped>\n",
       "    .dataframe tbody tr th:only-of-type {\n",
       "        vertical-align: middle;\n",
       "    }\n",
       "\n",
       "    .dataframe tbody tr th {\n",
       "        vertical-align: top;\n",
       "    }\n",
       "\n",
       "    .dataframe thead th {\n",
       "        text-align: right;\n",
       "    }\n",
       "</style>\n",
       "<table border=\"1\" class=\"dataframe\">\n",
       "  <thead>\n",
       "    <tr style=\"text-align: right;\">\n",
       "      <th></th>\n",
       "      <th>Date</th>\n",
       "      <th>Tweet</th>\n",
       "      <th>New_Date</th>\n",
       "      <th>Clean_Tweet</th>\n",
       "      <th>Positive</th>\n",
       "      <th>Negative</th>\n",
       "      <th>Neutral</th>\n",
       "      <th>Compound</th>\n",
       "    </tr>\n",
       "  </thead>\n",
       "  <tbody>\n",
       "    <tr>\n",
       "      <th>0</th>\n",
       "      <td>2020-09-29 23:52:29+00:00</td>\n",
       "      <td>@amitvarma Amit, You have spent many episodes ...</td>\n",
       "      <td>2020-09-29</td>\n",
       "      <td>amitvarma amit spent many episoes talking e-re...</td>\n",
       "      <td>0.000</td>\n",
       "      <td>0.040</td>\n",
       "      <td>0.960</td>\n",
       "      <td>-0.2023</td>\n",
       "    </tr>\n",
       "    <tr>\n",
       "      <th>1</th>\n",
       "      <td>2020-09-29 21:13:30+00:00</td>\n",
       "      <td>people talking about #SuhanaKhan reaction to t...</td>\n",
       "      <td>2020-09-29</td>\n",
       "      <td>people talking suhanakhan reaction calling ugl...</td>\n",
       "      <td>0.165</td>\n",
       "      <td>0.085</td>\n",
       "      <td>0.749</td>\n",
       "      <td>0.4767</td>\n",
       "    </tr>\n",
       "  </tbody>\n",
       "</table>\n",
       "</div>"
      ],
      "text/plain": [
       "                       Date  \\\n",
       "0 2020-09-29 23:52:29+00:00   \n",
       "1 2020-09-29 21:13:30+00:00   \n",
       "\n",
       "                                               Tweet   New_Date  \\\n",
       "0  @amitvarma Amit, You have spent many episodes ... 2020-09-29   \n",
       "1  people talking about #SuhanaKhan reaction to t... 2020-09-29   \n",
       "\n",
       "                                         Clean_Tweet  Positive  Negative  \\\n",
       "0  amitvarma amit spent many episoes talking e-re...     0.000     0.040   \n",
       "1  people talking suhanakhan reaction calling ugl...     0.165     0.085   \n",
       "\n",
       "   Neutral  Compound  \n",
       "0    0.960   -0.2023  \n",
       "1    0.749    0.4767  "
      ]
     },
     "execution_count": 16,
     "metadata": {},
     "output_type": "execute_result"
    }
   ],
   "source": [
    "#Updating sentiments for each tweets using SentimentIntensityAnalyzer\n",
    "sentiments = SentimentIntensityAnalyzer()\n",
    "\n",
    "tweet_data[\"Positive\"] = [sentiments.polarity_scores(i)[\"pos\"] for i in tweet_data[\"Tweet\"]]\n",
    "tweet_data[\"Negative\"] = [sentiments.polarity_scores(i)[\"neg\"] for i in tweet_data[\"Tweet\"]]\n",
    "tweet_data[\"Neutral\"] = [sentiments.polarity_scores(i)[\"neu\"] for i in tweet_data[\"Tweet\"]]\n",
    "tweet_data['Compound'] = [sentiments.polarity_scores(i)[\"compound\"] for i in tweet_data[\"Tweet\"]]\n",
    "\n",
    "tweet_data.head(2)"
   ]
  },
  {
   "cell_type": "code",
   "execution_count": 17,
   "id": "bdde7eff",
   "metadata": {},
   "outputs": [
    {
     "data": {
      "text/html": [
       "<div>\n",
       "<style scoped>\n",
       "    .dataframe tbody tr th:only-of-type {\n",
       "        vertical-align: middle;\n",
       "    }\n",
       "\n",
       "    .dataframe tbody tr th {\n",
       "        vertical-align: top;\n",
       "    }\n",
       "\n",
       "    .dataframe thead th {\n",
       "        text-align: right;\n",
       "    }\n",
       "</style>\n",
       "<table border=\"1\" class=\"dataframe\">\n",
       "  <thead>\n",
       "    <tr style=\"text-align: right;\">\n",
       "      <th></th>\n",
       "      <th>Date</th>\n",
       "      <th>Tweet</th>\n",
       "      <th>New_Date</th>\n",
       "      <th>Clean_Tweet</th>\n",
       "      <th>Positive</th>\n",
       "      <th>Negative</th>\n",
       "      <th>Neutral</th>\n",
       "      <th>Compound</th>\n",
       "      <th>Sentiment</th>\n",
       "    </tr>\n",
       "  </thead>\n",
       "  <tbody>\n",
       "    <tr>\n",
       "      <th>0</th>\n",
       "      <td>2020-09-29 23:52:29+00:00</td>\n",
       "      <td>@amitvarma Amit, You have spent many episodes ...</td>\n",
       "      <td>2020-09-29</td>\n",
       "      <td>amitvarma amit spent many episoes talking e-re...</td>\n",
       "      <td>0.0</td>\n",
       "      <td>0.04</td>\n",
       "      <td>0.96</td>\n",
       "      <td>-0.2023</td>\n",
       "      <td>Negative</td>\n",
       "    </tr>\n",
       "  </tbody>\n",
       "</table>\n",
       "</div>"
      ],
      "text/plain": [
       "                       Date  \\\n",
       "0 2020-09-29 23:52:29+00:00   \n",
       "\n",
       "                                               Tweet   New_Date  \\\n",
       "0  @amitvarma Amit, You have spent many episodes ... 2020-09-29   \n",
       "\n",
       "                                         Clean_Tweet  Positive  Negative  \\\n",
       "0  amitvarma amit spent many episoes talking e-re...       0.0      0.04   \n",
       "\n",
       "   Neutral  Compound Sentiment  \n",
       "0     0.96   -0.2023  Negative  "
      ]
     },
     "execution_count": 17,
     "metadata": {},
     "output_type": "execute_result"
    }
   ],
   "source": [
    "#Calculating score\n",
    "score = tweet_data[\"Compound\"].values\n",
    "sentiment = []\n",
    "for i in score:\n",
    "    if i >= 0.05 :\n",
    "        sentiment.append('Positive')\n",
    "    elif i <= -0.05 :\n",
    "        sentiment.append('Negative')\n",
    "    else:\n",
    "        sentiment.append('Neutral')\n",
    "tweet_data[\"Sentiment\"] = sentiment\n",
    "tweet_data.head(1)"
   ]
  },
  {
   "cell_type": "code",
   "execution_count": 18,
   "id": "4e46aeee",
   "metadata": {
    "scrolled": true
   },
   "outputs": [
    {
     "data": {
      "text/plain": [
       "<AxesSubplot:xlabel='Sentiment', ylabel='count'>"
      ]
     },
     "execution_count": 18,
     "metadata": {},
     "output_type": "execute_result"
    },
    {
     "data": {
      "image/png": "[encoded data removed]",
      "text/plain": [
       "<Figure size 432x288 with 1 Axes>"
      ]
     },
     "metadata": {
      "needs_background": "light"
     },
     "output_type": "display_data"
    }
   ],
   "source": [
    "# Sentiment Counts\n",
    "sns.countplot(tweet_data.Sentiment)"
   ]
  },
  {
   "cell_type": "markdown",
   "id": "d6f577f7",
   "metadata": {},
   "source": [
    "Notes: Sentiment analysis is performed using the compund evaluation methog. Each tweet is assigned with its polarity value on how much positivity, negativity and neutrlity it contains. Finally sentiment is extracted depending on thier compound value.\n",
    "It can be observed that about 90% of the tweets are positive which favours the support of indian farmers which helped to revoke the farm law"
   ]
  },
  {
   "cell_type": "code",
   "execution_count": 19,
   "id": "9d9a9d28",
   "metadata": {},
   "outputs": [],
   "source": [
    "tweet_data.to_csv(r'tweet_data_farm_law.csv', index=False)"
   ]
  },
  {
   "cell_type": "code",
   "execution_count": 20,
   "id": "3e58a2c2",
   "metadata": {},
   "outputs": [
    {
     "name": "stderr",
     "output_type": "stream",
     "text": [
      "/Applications/anaconda3/lib/python3.8/site-packages/IPython/core/interactiveshell.py:3437: DtypeWarning: Columns (7) have mixed types.Specify dtype option on import or set low_memory=False.\n",
      "  exec(code_obj, self.user_global_ns, self.user_ns)\n"
     ]
    },
    {
     "data": {
      "text/html": [
       "<div>\n",
       "<style scoped>\n",
       "    .dataframe tbody tr th:only-of-type {\n",
       "        vertical-align: middle;\n",
       "    }\n",
       "\n",
       "    .dataframe tbody tr th {\n",
       "        vertical-align: top;\n",
       "    }\n",
       "\n",
       "    .dataframe thead th {\n",
       "        text-align: right;\n",
       "    }\n",
       "</style>\n",
       "<table border=\"1\" class=\"dataframe\">\n",
       "  <thead>\n",
       "    <tr style=\"text-align: right;\">\n",
       "      <th></th>\n",
       "      <th>Tweet</th>\n",
       "      <th>New_Date</th>\n",
       "      <th>Clean_Tweet</th>\n",
       "      <th>Positive</th>\n",
       "      <th>Negative</th>\n",
       "      <th>Neutral</th>\n",
       "      <th>Compound</th>\n",
       "      <th>Sentiment</th>\n",
       "    </tr>\n",
       "    <tr>\n",
       "      <th>Date</th>\n",
       "      <th></th>\n",
       "      <th></th>\n",
       "      <th></th>\n",
       "      <th></th>\n",
       "      <th></th>\n",
       "      <th></th>\n",
       "      <th></th>\n",
       "      <th></th>\n",
       "    </tr>\n",
       "  </thead>\n",
       "  <tbody>\n",
       "    <tr>\n",
       "      <th>2021-12-01 00:20:12+00:00</th>\n",
       "      <td>@AmandaCerny @Kisanektamorcha Thanks Amanda 🙏🏼...</td>\n",
       "      <td>2021-12-01</td>\n",
       "      <td>amanacerny kisanektamorcha thanks amana one ye...</td>\n",
       "      <td>0.147</td>\n",
       "      <td>0.090</td>\n",
       "      <td>0.763</td>\n",
       "      <td>0.4404</td>\n",
       "      <td>Positive</td>\n",
       "    </tr>\n",
       "    <tr>\n",
       "      <th>2021-12-01 00:02:12+00:00</th>\n",
       "      <td>People, stop spreading rumours no one is leavi...</td>\n",
       "      <td>2021-12-01</td>\n",
       "      <td>people stop spreaing rumours one leaving morch...</td>\n",
       "      <td>0.000</td>\n",
       "      <td>0.211</td>\n",
       "      <td>0.789</td>\n",
       "      <td>-0.6597</td>\n",
       "      <td>Negative</td>\n",
       "    </tr>\n",
       "  </tbody>\n",
       "</table>\n",
       "</div>"
      ],
      "text/plain": [
       "                                                                       Tweet  \\\n",
       "Date                                                                           \n",
       "2021-12-01 00:20:12+00:00  @AmandaCerny @Kisanektamorcha Thanks Amanda 🙏🏼...   \n",
       "2021-12-01 00:02:12+00:00  People, stop spreading rumours no one is leavi...   \n",
       "\n",
       "                             New_Date  \\\n",
       "Date                                    \n",
       "2021-12-01 00:20:12+00:00  2021-12-01   \n",
       "2021-12-01 00:02:12+00:00  2021-12-01   \n",
       "\n",
       "                                                                 Clean_Tweet  \\\n",
       "Date                                                                           \n",
       "2021-12-01 00:20:12+00:00  amanacerny kisanektamorcha thanks amana one ye...   \n",
       "2021-12-01 00:02:12+00:00  people stop spreaing rumours one leaving morch...   \n",
       "\n",
       "                           Positive  Negative  Neutral Compound Sentiment  \n",
       "Date                                                                       \n",
       "2021-12-01 00:20:12+00:00     0.147     0.090    0.763   0.4404  Positive  \n",
       "2021-12-01 00:02:12+00:00     0.000     0.211    0.789  -0.6597  Negative  "
      ]
     },
     "execution_count": 20,
     "metadata": {},
     "output_type": "execute_result"
    }
   ],
   "source": [
    "#load the data\n",
    "tweet_data = pd.read_csv(\"tweet_data_farm_law.csv\", index_col=[0])\n",
    "tweet_data.tail(2)"
   ]
  },
  {
   "cell_type": "code",
   "execution_count": 21,
   "id": "322c4bbb",
   "metadata": {},
   "outputs": [
    {
     "name": "stdout",
     "output_type": "stream",
     "text": [
      "<class 'pandas.core.frame.DataFrame'>\n",
      "Index: 572011 entries, 2020-09-29 23:52:29+00:00 to 2021-12-01 00:02:12+00:00\n",
      "Data columns (total 8 columns):\n",
      " #   Column       Non-Null Count   Dtype  \n",
      "---  ------       --------------   -----  \n",
      " 0   Tweet        572007 non-null  object \n",
      " 1   New_Date     572005 non-null  object \n",
      " 2   Clean_Tweet  572005 non-null  object \n",
      " 3   Positive     572005 non-null  float64\n",
      " 4   Negative     572005 non-null  float64\n",
      " 5   Neutral      572005 non-null  float64\n",
      " 6   Compound     572005 non-null  object \n",
      " 7   Sentiment    572003 non-null  object \n",
      "dtypes: float64(3), object(5)\n",
      "memory usage: 39.3+ MB\n"
     ]
    }
   ],
   "source": [
    "tweet_data.info()"
   ]
  },
  {
   "cell_type": "code",
   "execution_count": 22,
   "id": "15fec6e9",
   "metadata": {},
   "outputs": [],
   "source": [
    "#Resetting the index for the dataframe\n",
    "tweet_data = tweet_data.reset_index()\n",
    "#tweet_data.head(1)"
   ]
  },
  {
   "cell_type": "code",
   "execution_count": 23,
   "id": "298a3851",
   "metadata": {},
   "outputs": [],
   "source": [
    "#Drop the row which does not contains Date in Date variable\n",
    "tweet_data['Date'] = pd.to_datetime(tweet_data['Date'],errors='coerce')\n",
    "tweet_data.dropna(inplace=True)"
   ]
  },
  {
   "cell_type": "code",
   "execution_count": 24,
   "id": "c92f5435",
   "metadata": {},
   "outputs": [],
   "source": [
    "# Creating a new column called date which contains the date of invoice only and excludes the time stamp\n",
    "tweet_data['Date'] = pd.to_datetime(tweet_data['Date']).dt.date"
   ]
  },
  {
   "cell_type": "code",
   "execution_count": 25,
   "id": "2abc46f0",
   "metadata": {},
   "outputs": [
    {
     "data": {
      "text/plain": [
       "0         @amitvarma Amit, You have spent many episodes ...\n",
       "1         people talking about #SuhanaKhan reaction to t...\n",
       "2         CNN: TRUMP is bankrupt, owes $421,000,000 to I...\n",
       "3         Because that's what sets a new disappointment ...\n",
       "4         3 ball(bill)... 3 strikes!!!... Farmers out \\n...\n",
       "                                ...                        \n",
       "572006    Rihanna done more for my people than the Queen...\n",
       "572007    #Pricehike \\n#unemployment \\n#migrantcrisis\\n#...\n",
       "572008    What emergency, in the midst of a #pandemic, n...\n",
       "572009    @AmandaCerny @Kisanektamorcha Thanks Amanda 🙏🏼...\n",
       "572010    People, stop spreading rumours no one is leavi...\n",
       "Name: Tweet, Length: 572003, dtype: object"
      ]
     },
     "execution_count": 25,
     "metadata": {},
     "output_type": "execute_result"
    }
   ],
   "source": [
    "#Changing the data type for Tweet from object to str \n",
    "tweet_data['Tweet'].astype(str)"
   ]
  },
  {
   "cell_type": "code",
   "execution_count": 26,
   "id": "58fd97a5",
   "metadata": {
    "scrolled": true
   },
   "outputs": [
    {
     "data": {
      "text/html": [
       "<div>\n",
       "<style scoped>\n",
       "    .dataframe tbody tr th:only-of-type {\n",
       "        vertical-align: middle;\n",
       "    }\n",
       "\n",
       "    .dataframe tbody tr th {\n",
       "        vertical-align: top;\n",
       "    }\n",
       "\n",
       "    .dataframe thead th {\n",
       "        text-align: right;\n",
       "    }\n",
       "</style>\n",
       "<table border=\"1\" class=\"dataframe\">\n",
       "  <thead>\n",
       "    <tr style=\"text-align: right;\">\n",
       "      <th></th>\n",
       "      <th>Date</th>\n",
       "      <th>Tweet</th>\n",
       "      <th>New_Date</th>\n",
       "      <th>Clean_Tweet</th>\n",
       "      <th>Positive</th>\n",
       "      <th>Negative</th>\n",
       "      <th>Neutral</th>\n",
       "      <th>Compound</th>\n",
       "      <th>Sentiment</th>\n",
       "    </tr>\n",
       "  </thead>\n",
       "  <tbody>\n",
       "    <tr>\n",
       "      <th>0</th>\n",
       "      <td>2020-09-29</td>\n",
       "      <td>@amitvarma Amit, You have spent many episodes ...</td>\n",
       "      <td>2020-09-29</td>\n",
       "      <td>amitvarma amit spent many episoes talking e-re...</td>\n",
       "      <td>0.0</td>\n",
       "      <td>0.04</td>\n",
       "      <td>0.96</td>\n",
       "      <td>-0.2023</td>\n",
       "      <td>Negative</td>\n",
       "    </tr>\n",
       "  </tbody>\n",
       "</table>\n",
       "</div>"
      ],
      "text/plain": [
       "         Date                                              Tweet    New_Date  \\\n",
       "0  2020-09-29  @amitvarma Amit, You have spent many episodes ...  2020-09-29   \n",
       "\n",
       "                                         Clean_Tweet  Positive  Negative  \\\n",
       "0  amitvarma amit spent many episoes talking e-re...       0.0      0.04   \n",
       "\n",
       "   Neutral Compound Sentiment  \n",
       "0     0.96  -0.2023  Negative  "
      ]
     },
     "execution_count": 26,
     "metadata": {},
     "output_type": "execute_result"
    }
   ],
   "source": [
    "tweet_data.head(1)"
   ]
  },
  {
   "cell_type": "code",
   "execution_count": 27,
   "id": "b552b586",
   "metadata": {},
   "outputs": [],
   "source": [
    "#Removing http from the cleaned tweets\n",
    "tweet_data['Clean_Tweet'] = tweet_data['Clean_Tweet'].str.replace('https', '')"
   ]
  },
  {
   "cell_type": "markdown",
   "id": "03b3d50b",
   "metadata": {},
   "source": [
    "# 6. Visualisation"
   ]
  },
  {
   "cell_type": "markdown",
   "id": "71c21d70",
   "metadata": {},
   "source": [
    "## 6.1 Word Colud"
   ]
  },
  {
   "cell_type": "code",
   "execution_count": 28,
   "id": "5347aebd",
   "metadata": {
    "scrolled": true
   },
   "outputs": [
    {
     "data": {
      "image/png": "[encoded data removed]",
      "text/plain": [
       "<Figure size 576x576 with 1 Axes>"
      ]
     },
     "metadata": {
      "needs_background": "light"
     },
     "output_type": "display_data"
    }
   ],
   "source": [
    "#Creating the text variable\n",
    "cloud_text = ''.join(map(str, tweet_data.Clean_Tweet))\n",
    "\n",
    "# Creating word_cloud with text as argument in .generate() method\n",
    "def wordcloud(tweets, title):\n",
    "    stopwords = set(STOPWORDS)\n",
    "    stopwords.add(\"https\")\n",
    "    stopwords.add(\"t\")\n",
    "    stopwords.add(\"à\")\n",
    "    stopwords.add(\"https\")\n",
    "    stopwords.add(\"ay\")\n",
    "    stopwords.add(\"_\")\n",
    "    \n",
    "wordcloud = WordCloud(max_words=50, collocations = False, background_color = 'white').generate(cloud_text)\n",
    "\n",
    "# Display the generated Word Cloud\n",
    "plt.figure(figsize = (8, 8), facecolor = None)\n",
    "plt.imshow(wordcloud, interpolation='bilinear')\n",
    "plt.axis(\"off\")\n",
    "plt.tight_layout(pad = 0)\n",
    "plt.savefig('wordCloud1.png')\n",
    "plt.show()"
   ]
  },
  {
   "cell_type": "markdown",
   "id": "c53e1c6e",
   "metadata": {},
   "source": [
    "Insights: The above diagram shows the word cloud which displays the words which was frequently and mostly used during the campaign by the tweeters."
   ]
  },
  {
   "cell_type": "markdown",
   "id": "60795487",
   "metadata": {},
   "source": [
    "## 6.2 Word Colud with Indian Map"
   ]
  },
  {
   "cell_type": "code",
   "execution_count": 29,
   "id": "70f90add",
   "metadata": {},
   "outputs": [
    {
     "data": {
      "image/png": "[encoded data removed]",
      "text/plain": [
       "<Figure size 1440x720 with 1 Axes>"
      ]
     },
     "metadata": {},
     "output_type": "display_data"
    },
    {
     "data": {
      "text/plain": [
       "<Figure size 432x288 with 0 Axes>"
      ]
     },
     "metadata": {},
     "output_type": "display_data"
    }
   ],
   "source": [
    "mask = np.array(Image.open(\"IndianMap.png\"))\n",
    "\n",
    "#Creating the text variable\n",
    "cloud_text = ''.join(map(str, tweet_data.Clean_Tweet))\n",
    "\n",
    "def wordcloud(tweets, title):\n",
    "    stopwords = set(STOPWORDS)\n",
    "    stopwords.add(\"https\")\n",
    "    stopwords.add(\"t\")\n",
    "    stopwords.add(\"à\")\n",
    "    stopwords.add(\"_\")\n",
    "    wordcloud = WordCloud(width=200, height=200, background_color=\"white\", max_font_size=18, min_font_size=4,\n",
    "                          max_words=220, stopwords=stopwords, colormap='Dark2',random_state=2018, \n",
    "                          mask=mask).generate(cloud_text)\n",
    "    plt.figure(title, figsize=(20, 10), facecolor='white', edgecolor='blue')\n",
    "    plt.imshow(wordcloud, interpolation=\"bilinear\")\n",
    "    plt.axis(\"off\")\n",
    "    plt.title(title)\n",
    "    plt.tight_layout(pad=0)\n",
    "    plt.savefig('wordCloud1.png')\n",
    "    plt.show()\n",
    "wordcloud(tweet_data.Tweet, \"Word Cloud in Indian Map\")\n",
    "plt.savefig('wordcloud2.png')"
   ]
  },
  {
   "cell_type": "markdown",
   "id": "2de6d2c3",
   "metadata": {},
   "source": [
    "Insights: This depicts the Indian map with word cloud with more than 200 words which evloved in tweeter during the protest"
   ]
  },
  {
   "cell_type": "code",
   "execution_count": null,
   "id": "3081b6cb",
   "metadata": {},
   "outputs": [],
   "source": [
    "#Changing the data type for date from object to date type\n",
    "tweet_data['Date'] = pd.to_datetime(tweet_data['Date'])"
   ]
  },
  {
   "cell_type": "code",
   "execution_count": null,
   "id": "dc3135d7",
   "metadata": {},
   "outputs": [],
   "source": [
    "#Analysis\n",
    "tweet_data['Date'] = pd.to_datetime(tweet_data['Date'])\n",
    "tweet_data['year'] = tweet_data['Date'].dt.year\n",
    "tweet_data['month'] = tweet_data['Date'].dt.month\n",
    "tweet_data['day'] = tweet_data['Date'].dt.day\n",
    "tweet_data['dayofweek'] = tweet_data['Date'].dt.dayofweek\n",
    "tweet_data['dayofyear'] = tweet_data['Date'].dt.dayofyear\n",
    "tweet_data['date_only'] = tweet_data['Date'].dt.date\n",
    "tweet_data.head(1)"
   ]
  },
  {
   "cell_type": "markdown",
   "id": "924cb9ad",
   "metadata": {},
   "source": [
    "## 6.3 Month-Wise Analysis"
   ]
  },
  {
   "cell_type": "markdown",
   "id": "feb5ac45",
   "metadata": {},
   "source": [
    "### 6.3.1 Protest period Analysis"
   ]
  },
  {
   "cell_type": "code",
   "execution_count": null,
   "id": "697bfe45",
   "metadata": {},
   "outputs": [],
   "source": [
    "tweet_data['yyyy-mm'] = pd.to_datetime(tweet_data['date_only']).dt.strftime('%Y-%m')\n",
    "tweet_data.head(1)"
   ]
  },
  {
   "cell_type": "code",
   "execution_count": null,
   "id": "21689f3c",
   "metadata": {
    "scrolled": true
   },
   "outputs": [],
   "source": [
    "#Day of the week mostly tweeted\n",
    "plt.figure(figsize = (14, 10))\n",
    "tweets_month = tweet_data.groupby([\"yyyy-mm\"])[\"Clean_Tweet\"].count().reset_index()\n",
    "tweets_month.columns = ['yyyy-mm', 'tweet_count']\n",
    "sns.lineplot(x = 'yyyy-mm', y = 'tweet_count', hue = None, data = tweets_month)\n",
    "plt.title('Tweets count by month')\n",
    "plt.savefig('Month_Analysis.png')\n",
    "plt.show()"
   ]
  },
  {
   "cell_type": "markdown",
   "id": "88f18a62",
   "metadata": {},
   "source": [
    "Insights: The above plot displays that there was spike in tweets during the key event choosen for this reseach. Which lies in Feburary 2021 whether the famous personality Rihanna tweeted her concern about the farmers protest"
   ]
  },
  {
   "cell_type": "markdown",
   "id": "179d523e",
   "metadata": {},
   "source": [
    "### 6.3.1 Feburary Month Analysis"
   ]
  },
  {
   "cell_type": "code",
   "execution_count": null,
   "id": "6d90957e",
   "metadata": {},
   "outputs": [],
   "source": [
    "#Filtering ony Feb\n",
    "tweet_feb = tweet_data[(tweet_data['yyyy-mm'] == '2021-02')]\n",
    "tweet_feb.tail(1)"
   ]
  },
  {
   "cell_type": "code",
   "execution_count": null,
   "id": "40c14ff1",
   "metadata": {
    "scrolled": true
   },
   "outputs": [],
   "source": [
    "#Hour of the day mostly tweeted - Filter only Feb to see the trend\n",
    "plt.figure(figsize = (8, 6))\n",
    "tweets_feb_plot = tweet_feb.groupby([\"day\"])[\"Clean_Tweet\"].count().reset_index()\n",
    "tweets_feb_plot.columns = ['day', 'tweet_count']\n",
    "sns.lineplot(x = 'day', y = 'tweet_count', hue = None, data = tweets_feb_plot)\n",
    "plt.title('Feburary Month Analysis')\n",
    "plt.savefig('Feburary_Month_Analysis.png')\n",
    "plt.show()"
   ]
  },
  {
   "cell_type": "markdown",
   "id": "f5bc542b",
   "metadata": {},
   "source": [
    "Insights: This graphs depicts that tweets stared to emerge as soon as there was a tweet from Rihanna"
   ]
  },
  {
   "cell_type": "markdown",
   "id": "68189294",
   "metadata": {},
   "source": [
    "### 6.3.2 Jan & Feb Month Analysis"
   ]
  },
  {
   "cell_type": "code",
   "execution_count": null,
   "id": "0d1db841",
   "metadata": {},
   "outputs": [],
   "source": [
    "#Filtering ony Jan & Feb\n",
    "tweet_data_Jan_Feb = tweet_data[(tweet_data['yyyy-mm'] > '2020-12') & (tweet_data['yyyy-mm'] < '2021-03')]\n",
    "tweet_data_Jan_Feb.tail(1)"
   ]
  },
  {
   "cell_type": "code",
   "execution_count": null,
   "id": "de490cf4",
   "metadata": {
    "scrolled": true
   },
   "outputs": [],
   "source": [
    "#Hour of the day mostly tweeted - Filter only Feb to see the trend\n",
    "plt.figure(figsize = (10, 8))\n",
    "tweet_data_Jan_Feb_plot = tweet_data_Jan_Feb.groupby([\"date_only\"])[\"Clean_Tweet\"].count().reset_index()\n",
    "tweet_data_Jan_Feb_plot.columns = ['date_only', 'tweet_count']\n",
    "sns.lineplot(x = 'date_only', y = 'tweet_count', hue = None, data = tweet_data_Jan_Feb_plot)\n",
    "plt.title('January & Feburary Month Analysis')\n",
    "plt.show()"
   ]
  },
  {
   "cell_type": "markdown",
   "id": "d7966c58",
   "metadata": {},
   "source": [
    "Insights: Analysis shows trend from 26th Jan to 2nd Feb. We could see spike in tweets from Republic date to the key event."
   ]
  },
  {
   "cell_type": "code",
   "execution_count": null,
   "id": "45da7e99",
   "metadata": {},
   "outputs": [],
   "source": []
  }
 ],
 "metadata": {
  "kernelspec": {
   "display_name": "Python 3",
   "language": "python",
   "name": "python3"
  },
  "language_info": {
   "codemirror_mode": {
    "name": "ipython",
    "version": 3
   },
   "file_extension": ".py",
   "mimetype": "text/x-python",
   "name": "python",
   "nbconvert_exporter": "python",
   "pygments_lexer": "ipython3",
   "version": "3.8.8"
  }
 },
 "nbformat": 4,
 "nbformat_minor": 5
}
